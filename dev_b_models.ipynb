{
 "cells": [
  {
   "cell_type": "markdown",
   "id": "19962238",
   "metadata": {},
   "source": [
    "## First models"
   ]
  },
  {
   "cell_type": "markdown",
   "id": "35c84bad",
   "metadata": {},
   "source": [
    "### Imports"
   ]
  },
  {
   "cell_type": "code",
   "execution_count": 1,
   "id": "3fbc3733",
   "metadata": {},
   "outputs": [
    {
     "name": "stderr",
     "output_type": "stream",
     "text": [
      "[nltk_data] Downloading package wordnet to\n",
      "[nltk_data]     C:\\Users\\bapti\\AppData\\Roaming\\nltk_data...\n",
      "[nltk_data]   Package wordnet is already up-to-date!\n",
      "[nltk_data] Downloading package omw-1.4 to\n",
      "[nltk_data]     C:\\Users\\bapti\\AppData\\Roaming\\nltk_data...\n",
      "[nltk_data]   Package omw-1.4 is already up-to-date!\n",
      "[nltk_data] Downloading package punkt to\n",
      "[nltk_data]     C:\\Users\\bapti\\AppData\\Roaming\\nltk_data...\n",
      "[nltk_data]   Package punkt is already up-to-date!\n"
     ]
    },
    {
     "data": {
      "text/plain": [
       "True"
      ]
     },
     "execution_count": 1,
     "metadata": {},
     "output_type": "execute_result"
    }
   ],
   "source": [
    "import pandas as pd\n",
    "import seaborn as sns\n",
    "import matplotlib.pyplot as plt\n",
    "import nltk\n",
    "from nltk.stem import WordNetLemmatizer\n",
    "from nltk.stem import SnowballStemmer\n",
    "import time\n",
    "import numpy as np\n",
    "\n",
    "import ast\n",
    "from collections import Counter\n",
    "\n",
    "from sklearn import feature_extraction, model_selection, naive_bayes, pipeline, manifold, preprocessing, feature_selection, metrics\n",
    "from nrclex import NRCLex\n",
    "\n",
    "import warnings\n",
    "warnings.filterwarnings('ignore')\n",
    "\n",
    "nltk.download('wordnet')\n",
    "nltk.download('omw-1.4')\n",
    "nltk.download('punkt')"
   ]
  },
  {
   "cell_type": "code",
   "execution_count": 2,
   "id": "c56b2b5e",
   "metadata": {},
   "outputs": [
    {
     "data": {
      "text/html": [
       "<div>\n",
       "<style scoped>\n",
       "    .dataframe tbody tr th:only-of-type {\n",
       "        vertical-align: middle;\n",
       "    }\n",
       "\n",
       "    .dataframe tbody tr th {\n",
       "        vertical-align: top;\n",
       "    }\n",
       "\n",
       "    .dataframe thead th {\n",
       "        text-align: right;\n",
       "    }\n",
       "</style>\n",
       "<table border=\"1\" class=\"dataframe\">\n",
       "  <thead>\n",
       "    <tr style=\"text-align: right;\">\n",
       "      <th></th>\n",
       "      <th>text</th>\n",
       "      <th>emotion</th>\n",
       "    </tr>\n",
       "  </thead>\n",
       "  <tbody>\n",
       "    <tr>\n",
       "      <th>0</th>\n",
       "      <td>i didnt feel humiliated</td>\n",
       "      <td>sadness</td>\n",
       "    </tr>\n",
       "    <tr>\n",
       "      <th>1</th>\n",
       "      <td>i can go from feeling so hopeless to so damned...</td>\n",
       "      <td>sadness</td>\n",
       "    </tr>\n",
       "    <tr>\n",
       "      <th>2</th>\n",
       "      <td>im grabbing a minute to post i feel greedy wrong</td>\n",
       "      <td>anger</td>\n",
       "    </tr>\n",
       "    <tr>\n",
       "      <th>3</th>\n",
       "      <td>i am ever feeling nostalgic about the fireplac...</td>\n",
       "      <td>love</td>\n",
       "    </tr>\n",
       "    <tr>\n",
       "      <th>4</th>\n",
       "      <td>i am feeling grouchy</td>\n",
       "      <td>anger</td>\n",
       "    </tr>\n",
       "  </tbody>\n",
       "</table>\n",
       "</div>"
      ],
      "text/plain": [
       "                                                text  emotion\n",
       "0                            i didnt feel humiliated  sadness\n",
       "1  i can go from feeling so hopeless to so damned...  sadness\n",
       "2   im grabbing a minute to post i feel greedy wrong    anger\n",
       "3  i am ever feeling nostalgic about the fireplac...     love\n",
       "4                               i am feeling grouchy    anger"
      ]
     },
     "execution_count": 2,
     "metadata": {},
     "output_type": "execute_result"
    }
   ],
   "source": [
    "df_train = pd.read_csv(\"data/train.txt\", names=[\"text\", \"emotion\"], sep=\";\")\n",
    "df_test = pd.read_csv(\"data/test.txt\", names=[\"text\", \"emotion\"], sep=\";\")\n",
    "df_train.head()"
   ]
  },
  {
   "cell_type": "markdown",
   "id": "2b3ec7d7",
   "metadata": {},
   "source": [
    "### Data prep"
   ]
  },
  {
   "cell_type": "code",
   "execution_count": 16,
   "id": "17e41c79",
   "metadata": {},
   "outputs": [],
   "source": [
    "# load stopwords\n",
    "sw_file = open('misc/stopwords.txt', \"r\")\n",
    "try :\n",
    "    content = sw_file.read()\n",
    "    stopwords = ast.literal_eval(content)\n",
    "finally:\n",
    "    sw_file.close()\n",
    "    \n",
    "# separate text and labels\n",
    "X, y = list(df_train['text']), list(df_train['emotion'])\n",
    "\n",
    "# Turn labels to numeric\n",
    "emotion_list = list(df_train['emotion'].unique())\n",
    "y_names = list(df_train['emotion'])\n",
    "y = [emotion_list.index(em) for em in y]\n",
    "\n"
   ]
  },
  {
   "cell_type": "code",
   "execution_count": 17,
   "id": "7006f002",
   "metadata": {},
   "outputs": [],
   "source": [
    "\n",
    "def preprocess(text_lst, sw=False, stem=False, lem=True):\n",
    "    \"\"\"\n",
    "    Apply different preprocessing.\n",
    "    returns :\n",
    "        - list of texts preprocessed\n",
    "    params : \n",
    "        - list(str) text_lst : list of text to preprocess\n",
    "        - bool sw : enable to remove stopwords\n",
    "        - bool stem : enable to stem text\n",
    "        - bool lem : enable to lemmatize text\n",
    "    \"\"\"\n",
    "    time_start = time.time()\n",
    "    if sw :\n",
    "        text_lst = [' '.join([word for word in x.split() if word not in (stopwords)]) for x in text_lst]\n",
    "    \n",
    "    stemmer = SnowballStemmer('english')\n",
    "    lem = WordNetLemmatizer()\n",
    "    \n",
    "    if stem and lem :\n",
    "        text_lst = [' '.join([stemmer.stem(lem.lemmatize(word)) for word in x.split()]) for x in text_lst]\n",
    "    \n",
    "    elif stem :\n",
    "        text_lst = [' '.join([stemmer.stem(word) for word in x.split()]) for x in text_lst]\n",
    "        \n",
    "    elif lem :\n",
    "        text_lst = [' '.join([lem.lemmatize(word) for word in x.split()]) for x in text_lst]\n",
    "    \n",
    "    print(f'Time elapsed : {round(time.time() - time_start, 2)} s')\n",
    "    \n",
    "    return text_lst\n",
    "\n",
    "#X_preproc = preprocess(X, sw=False, stem=True, lem=True)"
   ]
  },
  {
   "cell_type": "markdown",
   "id": "246993cd",
   "metadata": {},
   "source": [
    "### Models"
   ]
  },
  {
   "cell_type": "markdown",
   "id": "3fb965be",
   "metadata": {},
   "source": [
    "### #1 Simple classification with tf/idf"
   ]
  },
  {
   "cell_type": "markdown",
   "id": "4770bf86",
   "metadata": {},
   "source": [
    "#### Text encoding : tf/idf with refined vocabulary"
   ]
  },
  {
   "cell_type": "code",
   "execution_count": 18,
   "id": "6f0d0a5a",
   "metadata": {},
   "outputs": [
    {
     "name": "stdout",
     "output_type": "stream",
     "text": [
      "Time elapsed : 2.1 s\n"
     ]
    }
   ],
   "source": [
    "# preprocessing for vocabulary creation\n",
    "X_preproc = preprocess(X, sw=False, stem=False, lem=False)"
   ]
  },
  {
   "cell_type": "code",
   "execution_count": 19,
   "id": "3e5e7c2f",
   "metadata": {},
   "outputs": [],
   "source": [
    "# tfidf vectorizer\n",
    "vectorizer = feature_extraction.text.TfidfVectorizer(max_features=10000, ngram_range=(1,2))\n",
    "vectorizer.fit(X_preproc)\n",
    "X_train = vectorizer.transform(X_preproc)\n",
    "vocabulary = vectorizer.vocabulary_ # getting vocabulary"
   ]
  },
  {
   "cell_type": "code",
   "execution_count": 20,
   "id": "9acd580c",
   "metadata": {},
   "outputs": [
    {
     "name": "stdout",
     "output_type": "stream",
     "text": [
      "# sadness\n",
      "Top features selected : 612\n",
      "['gloomy' 'disheartened' 'exhausted' 'discouraged' 'miserable'\n",
      " 'melancholy' 'listless' 'punished' 'homesick' 'shitty']\n",
      "\n",
      "# anger\n",
      "Top features selected : 248\n",
      "['angry' 'annoyed' 'bitchy' 'bitter' 'bothered' 'cold' 'cranky'\n",
      " 'dangerous' 'dissatisfied' 'distracted']\n",
      "\n",
      "# love\n",
      "Top features selected : 217\n",
      "['caring' 'compassionate' 'delicate' 'fond' 'fond of' 'gentle' 'horny'\n",
      " 'hot' 'liked' 'longing']\n",
      "\n",
      "# surprise\n",
      "Top features selected : 151\n",
      "['amazed' 'amazed at' 'amazing' 'curious' 'curious about' 'dazed'\n",
      " 'dazed and' 'feel amazed' 'feel curious' 'feel funny']\n",
      "\n",
      "# fear\n",
      "Top features selected : 258\n",
      "['anxious' 'apprehensive' 'distraught' 'distressed' 'fearful' 'frantic'\n",
      " 'frightened' 'hesitant' 'insecure' 'intimidated']\n",
      "\n",
      "# joy\n",
      "Top features selected : 625\n",
      "['successful' 'rich' 'brave' 'honored' 'useful' 'divine' 'festive'\n",
      " 'confident' 'innocent' 'satisfied']\n",
      "\n"
     ]
    }
   ],
   "source": [
    "# Chi square test to test features independancy : dimensionality reduction\n",
    "# print below features linked to each subject\n",
    "\n",
    "X_names = vectorizer.get_feature_names()\n",
    "p_val = .95\n",
    "\n",
    "features = pd.DataFrame()\n",
    "for cat in np.unique(y):\n",
    "    chi2, p = feature_selection.chi2(X_train, y==cat)\n",
    "    features = features.append(pd.DataFrame(\n",
    "                   {\"feature\":X_names, \"score\":1-p, \"y\":cat}))\n",
    "    features = features.sort_values([\"y\",\"score\"], \n",
    "                    ascending=[True,False])\n",
    "    features = features[features[\"score\"]>p_val]\n",
    "\n",
    "X_names = features[\"feature\"].unique().tolist()\n",
    "\n",
    "for cat in np.unique(y):\n",
    "    print(f'# {emotion_list[cat]}')\n",
    "    print(f'Top features selected : {len(features[features[\"y\"]==cat])}')\n",
    "    print(features[features[\"y\"]==cat][\"feature\"].values[:10])\n",
    "    print()"
   ]
  },
  {
   "cell_type": "code",
   "execution_count": 21,
   "id": "56606f24",
   "metadata": {},
   "outputs": [],
   "source": [
    "# vectorizer with our new reduced vocabulary as input\n",
    "\n",
    "vectorizer = feature_extraction.text.TfidfVectorizer(vocabulary=X_names)\n",
    "vectorizer.fit(X_preproc)\n",
    "X_train = vectorizer.transform(X_preproc)\n",
    "voc = vectorizer.vocabulary_\n"
   ]
  },
  {
   "cell_type": "code",
   "execution_count": 22,
   "id": "817dde74",
   "metadata": {},
   "outputs": [
    {
     "name": "stdout",
     "output_type": "stream",
     "text": [
      "16000\n",
      "16000\n"
     ]
    }
   ],
   "source": [
    "print(X_train.shape[0])\n",
    "print(len(y))"
   ]
  },
  {
   "cell_type": "markdown",
   "id": "2e745774",
   "metadata": {},
   "source": [
    "#### First model : Naive bayes"
   ]
  },
  {
   "cell_type": "code",
   "execution_count": 23,
   "id": "f4b37644",
   "metadata": {},
   "outputs": [
    {
     "name": "stdout",
     "output_type": "stream",
     "text": [
      "Time elapsed : 0.12 s\n"
     ]
    }
   ],
   "source": [
    "classifier = naive_bayes.MultinomialNB()\n",
    "\n",
    "# creating a pipeline\n",
    "model = pipeline.Pipeline([(\"vectorizer\", vectorizer), (\"classifier\", classifier)])\n",
    "model[\"classifier\"].fit(X_train, y)\n",
    "\n",
    "# Test set preparation\n",
    "X_test = list(df_test[\"text\"])\n",
    "X_test_preproc = preprocess(X_test, sw=True, stem=False, lem=True)\n",
    "y_test = [emotion_list.index(em) for em in list(df_test[\"emotion\"])]\n",
    "\n",
    "# prediction\n",
    "predicted = model.predict(X_test_preproc)\n",
    "predicted_prob = model.predict_proba(X_test_preproc)\n"
   ]
  },
  {
   "cell_type": "code",
   "execution_count": 24,
   "id": "4f71d456",
   "metadata": {},
   "outputs": [
    {
     "name": "stdout",
     "output_type": "stream",
     "text": [
      "Accuracy: 0.9\n",
      "\n",
      "Details :\n",
      "0 : sadness\n",
      "1 : anger\n",
      "2 : love\n",
      "3 : surprise\n",
      "4 : fear\n",
      "5 : joy\n",
      "              precision    recall  f1-score   support\n",
      "\n",
      "           0       0.91      0.96      0.94       581\n",
      "           1       0.93      0.87      0.90       275\n",
      "           2       0.94      0.60      0.74       159\n",
      "           3       1.00      0.44      0.61        66\n",
      "           4       0.89      0.83      0.86       224\n",
      "           5       0.86      0.98      0.92       695\n",
      "\n",
      "    accuracy                           0.90      2000\n",
      "   macro avg       0.92      0.78      0.83      2000\n",
      "weighted avg       0.90      0.90      0.89      2000\n",
      "\n",
      "\n"
     ]
    },
    {
     "data": {
      "image/png": "[encoded data removed]",
      "text/plain": [
       "<Figure size 640x480 with 1 Axes>"
      ]
     },
     "metadata": {},
     "output_type": "display_data"
    }
   ],
   "source": [
    "### Results\n",
    "\n",
    "emotions = np.unique(y_test)\n",
    "\n",
    "def evaluate_model(expected, predicted):\n",
    "    '''\n",
    "    Function print :\n",
    "    - Global accuracy\n",
    "    - Detailed precision, recall, f1\n",
    "    - Confusion matrix\n",
    "    '''\n",
    "    # Metrics\n",
    "    accuracy = metrics.accuracy_score(expected, predicted)\n",
    "    #auc = metrics.roc_auc_score(expected, predicted_prob, \n",
    "    #                            multi_class=\"ovr\")\n",
    "    print(\"Accuracy:\",  round(accuracy,2))\n",
    "    #print(\"Auc:\", round(auc,2))\n",
    "    print()\n",
    "    print(\"Details :\")\n",
    "    for idx, em in enumerate([emotion_list[em] for em in emotions]) :\n",
    "        print(f'{idx} : {em}')\n",
    "    print(metrics.classification_report(expected, predicted))\n",
    "\n",
    "    # Plot confusion matrix\n",
    "    cm = metrics.confusion_matrix(expected, predicted)\n",
    "    fig, ax = plt.subplots()\n",
    "    sns.heatmap(cm, annot=True, fmt='d', ax=ax, cmap=plt.cm.Blues, \n",
    "                cbar=False)\n",
    "    ax.set(xlabel=\"Pred\", ylabel=\"True\", xticklabels=[emotion_list[em] for em in emotions], \n",
    "           yticklabels=[emotion_list[em] for em in emotions], title=\"Confusion matrix\")\n",
    "    plt.yticks(rotation=0)\n",
    "    print()\n",
    "\n",
    "evaluate_model(y_test, predicted)"
   ]
  },
  {
   "cell_type": "markdown",
   "id": "d6f1fb55",
   "metadata": {},
   "source": [
    "#### Lm based approach : Bert"
   ]
  },
  {
   "cell_type": "code",
   "execution_count": 25,
   "id": "d3830019",
   "metadata": {},
   "outputs": [],
   "source": [
    "# imports\n",
    "from transformers import BertTokenizer, BertForSequenceClassification, DistilBertTokenizer\n",
    "import random\n",
    "import tabulate\n",
    "import torch\n",
    "from torch.utils.data import TensorDataset, DataLoader, RandomSampler, SequentialSampler\n",
    "from sklearn.model_selection import train_test_split\n",
    "from tqdm import trange"
   ]
  },
  {
   "cell_type": "code",
   "execution_count": 26,
   "id": "c0054be3",
   "metadata": {},
   "outputs": [],
   "source": [
    "# load tokenizer\n",
    "# tokenizer = DistilBertTokenizer.from_pretrained('distilbert-base-uncased', do_lower_case=True)\n",
    "tokenizer = BertTokenizer.from_pretrained('bert-base-uncased', do_lower_case=True)"
   ]
  },
  {
   "cell_type": "code",
   "execution_count": 7,
   "id": "de9a7870",
   "metadata": {},
   "outputs": [
    {
     "name": "stdout",
     "output_type": "stream",
     "text": [
      "max len : 18\n"
     ]
    }
   ],
   "source": [
    "# load corpus and labels\n",
    "text, y = list(df_train['text']), list(df_train['emotion']) # taking raw text\n",
    "labels = [emotion_list.index(em) for em in y]\n",
    "df_val = pd.read_csv(\"data/val.txt\", names=[\"text\", \"emotion\"], sep=\";\") \n",
    "\n",
    "# adding val set (to get the maxlen) --> resplitting it later\n",
    "text.extend(list(df_val['text']))\n",
    "labels.extend([emotion_list.index(em) for em in list(df_val['emotion'])])\n",
    "\n",
    "# determining maxlen needed\n",
    "maxlen = 0\n",
    "for sent in list(text):\n",
    "    if len(sent) > maxlen :\n",
    "        maxlen = len(sent.split(' '))\n",
    "print(f'max len : {maxlen}')\n"
   ]
  },
  {
   "cell_type": "markdown",
   "id": "fd5c5456",
   "metadata": {},
   "source": [
    "Preprocessing"
   ]
  },
  {
   "cell_type": "code",
   "execution_count": 8,
   "id": "b16f1453",
   "metadata": {},
   "outputs": [
    {
     "name": "stdout",
     "output_type": "stream",
     "text": [
      "Sentence tokenized example :\n",
      "i didnt feel humiliated :\n",
      "tensor([  101,  1045,  2134,  2102,  2514, 26608,   102,     0,     0,     0,\n",
      "            0,     0,     0,     0,     0,     0,     0,     0,     0,     0,\n",
      "            0,     0,     0,     0,     0])\n"
     ]
    }
   ],
   "source": [
    "## BERT preprocessing requirements\n",
    "# Adding CLS and END tokens, normalize sentence length, create attention mask\n",
    "\n",
    "def bert_preprocess(text, tokenizer):\n",
    "    \"\"\"\n",
    "    Apply preprocessing needed for bert. see comment above\n",
    "    \"\"\"\n",
    "    return tokenizer.encode_plus(\n",
    "        text,\n",
    "        add_special_tokens = True,\n",
    "        max_length = 25,\n",
    "        pad_to_max_length = True,\n",
    "        return_attention_mask = True,\n",
    "        truncation = True,\n",
    "        return_tensors = 'pt',\n",
    "    )\n",
    "\n",
    "token_id = []\n",
    "attention_masks = []\n",
    "\n",
    "for sentence in text:\n",
    "    encoding_dict = bert_preprocess(sentence, tokenizer)\n",
    "    token_id.append(encoding_dict['input_ids']) \n",
    "    attention_masks.append(encoding_dict['attention_mask'])\n",
    "\n",
    "token_id = torch.cat(token_id, dim = 0)\n",
    "attention_masks = torch.cat(attention_masks, dim = 0)\n",
    "labels = torch.tensor(labels)\n",
    "\n",
    "print(f'Sentence tokenized example :\\n{text[0]} :\\n{token_id[0]}')\n"
   ]
  },
  {
   "cell_type": "code",
   "execution_count": 9,
   "id": "ae5bddcd",
   "metadata": {},
   "outputs": [],
   "source": [
    "val_ratio = .2\n",
    "batch_size = 16\n",
    "\n",
    "# resplitting val set\n",
    "train_idx, val_idx = train_test_split(\n",
    "    np.arange(len(labels)),\n",
    "    test_size = val_ratio,\n",
    "    shuffle = True,\n",
    "    stratify = labels)\n",
    "\n",
    "# train set 80%\n",
    "train_set = TensorDataset(token_id[train_idx], \n",
    "                          attention_masks[train_idx], \n",
    "                          labels[train_idx])\n",
    "\n",
    "# validation set 20%\n",
    "val_set = TensorDataset(token_id[val_idx], \n",
    "                        attention_masks[val_idx], \n",
    "                        labels[val_idx])\n",
    "\n",
    "train_val_set = TensorDataset(token_id[:], \n",
    "                        attention_masks[:], \n",
    "                        labels[:])\n",
    "\n",
    "\n",
    "# dataloaders\n",
    "train_dataloader = DataLoader(\n",
    "            train_set,\n",
    "            sampler = RandomSampler(train_set),\n",
    "            batch_size = batch_size\n",
    "        )\n",
    "\n",
    "validation_dataloader = DataLoader(\n",
    "            val_set,\n",
    "            sampler = SequentialSampler(val_set),\n",
    "            batch_size = batch_size\n",
    "        )\n",
    "\n",
    "train_val_dataloader = DataLoader(\n",
    "    train_val_set,\n",
    "    sampler = SequentialSampler(train_val_set),\n",
    "    batch_size = batch_size\n",
    "            \n",
    ")\n",
    "\n"
   ]
  },
  {
   "cell_type": "markdown",
   "id": "bce855c4",
   "metadata": {},
   "source": [
    "Fine-tuning :\n",
    "- hyperparameters based on https://arxiv.org/pdf/1810.04805.pdf"
   ]
  },
  {
   "cell_type": "code",
   "execution_count": 10,
   "id": "088a2cab",
   "metadata": {},
   "outputs": [
    {
     "name": "stderr",
     "output_type": "stream",
     "text": [
      "Some weights of the model checkpoint at bert-base-uncased were not used when initializing BertForSequenceClassification: ['cls.predictions.decoder.weight', 'cls.seq_relationship.weight', 'cls.predictions.transform.LayerNorm.weight', 'cls.predictions.bias', 'cls.predictions.transform.dense.bias', 'cls.predictions.transform.dense.weight', 'cls.seq_relationship.bias', 'cls.predictions.transform.LayerNorm.bias']\n",
      "- This IS expected if you are initializing BertForSequenceClassification from the checkpoint of a model trained on another task or with another architecture (e.g. initializing a BertForSequenceClassification model from a BertForPreTraining model).\n",
      "- This IS NOT expected if you are initializing BertForSequenceClassification from the checkpoint of a model that you expect to be exactly identical (initializing a BertForSequenceClassification model from a BertForSequenceClassification model).\n",
      "Some weights of BertForSequenceClassification were not initialized from the model checkpoint at bert-base-uncased and are newly initialized: ['classifier.bias', 'classifier.weight']\n",
      "You should probably TRAIN this model on a down-stream task to be able to use it for predictions and inference.\n"
     ]
    },
    {
     "data": {
      "text/plain": [
       "BertForSequenceClassification(\n",
       "  (bert): BertModel(\n",
       "    (embeddings): BertEmbeddings(\n",
       "      (word_embeddings): Embedding(30522, 768, padding_idx=0)\n",
       "      (position_embeddings): Embedding(512, 768)\n",
       "      (token_type_embeddings): Embedding(2, 768)\n",
       "      (LayerNorm): LayerNorm((768,), eps=1e-12, elementwise_affine=True)\n",
       "      (dropout): Dropout(p=0.1, inplace=False)\n",
       "    )\n",
       "    (encoder): BertEncoder(\n",
       "      (layer): ModuleList(\n",
       "        (0): BertLayer(\n",
       "          (attention): BertAttention(\n",
       "            (self): BertSelfAttention(\n",
       "              (query): Linear(in_features=768, out_features=768, bias=True)\n",
       "              (key): Linear(in_features=768, out_features=768, bias=True)\n",
       "              (value): Linear(in_features=768, out_features=768, bias=True)\n",
       "              (dropout): Dropout(p=0.1, inplace=False)\n",
       "            )\n",
       "            (output): BertSelfOutput(\n",
       "              (dense): Linear(in_features=768, out_features=768, bias=True)\n",
       "              (LayerNorm): LayerNorm((768,), eps=1e-12, elementwise_affine=True)\n",
       "              (dropout): Dropout(p=0.1, inplace=False)\n",
       "            )\n",
       "          )\n",
       "          (intermediate): BertIntermediate(\n",
       "            (dense): Linear(in_features=768, out_features=3072, bias=True)\n",
       "            (intermediate_act_fn): GELUActivation()\n",
       "          )\n",
       "          (output): BertOutput(\n",
       "            (dense): Linear(in_features=3072, out_features=768, bias=True)\n",
       "            (LayerNorm): LayerNorm((768,), eps=1e-12, elementwise_affine=True)\n",
       "            (dropout): Dropout(p=0.1, inplace=False)\n",
       "          )\n",
       "        )\n",
       "        (1): BertLayer(\n",
       "          (attention): BertAttention(\n",
       "            (self): BertSelfAttention(\n",
       "              (query): Linear(in_features=768, out_features=768, bias=True)\n",
       "              (key): Linear(in_features=768, out_features=768, bias=True)\n",
       "              (value): Linear(in_features=768, out_features=768, bias=True)\n",
       "              (dropout): Dropout(p=0.1, inplace=False)\n",
       "            )\n",
       "            (output): BertSelfOutput(\n",
       "              (dense): Linear(in_features=768, out_features=768, bias=True)\n",
       "              (LayerNorm): LayerNorm((768,), eps=1e-12, elementwise_affine=True)\n",
       "              (dropout): Dropout(p=0.1, inplace=False)\n",
       "            )\n",
       "          )\n",
       "          (intermediate): BertIntermediate(\n",
       "            (dense): Linear(in_features=768, out_features=3072, bias=True)\n",
       "            (intermediate_act_fn): GELUActivation()\n",
       "          )\n",
       "          (output): BertOutput(\n",
       "            (dense): Linear(in_features=3072, out_features=768, bias=True)\n",
       "            (LayerNorm): LayerNorm((768,), eps=1e-12, elementwise_affine=True)\n",
       "            (dropout): Dropout(p=0.1, inplace=False)\n",
       "          )\n",
       "        )\n",
       "        (2): BertLayer(\n",
       "          (attention): BertAttention(\n",
       "            (self): BertSelfAttention(\n",
       "              (query): Linear(in_features=768, out_features=768, bias=True)\n",
       "              (key): Linear(in_features=768, out_features=768, bias=True)\n",
       "              (value): Linear(in_features=768, out_features=768, bias=True)\n",
       "              (dropout): Dropout(p=0.1, inplace=False)\n",
       "            )\n",
       "            (output): BertSelfOutput(\n",
       "              (dense): Linear(in_features=768, out_features=768, bias=True)\n",
       "              (LayerNorm): LayerNorm((768,), eps=1e-12, elementwise_affine=True)\n",
       "              (dropout): Dropout(p=0.1, inplace=False)\n",
       "            )\n",
       "          )\n",
       "          (intermediate): BertIntermediate(\n",
       "            (dense): Linear(in_features=768, out_features=3072, bias=True)\n",
       "            (intermediate_act_fn): GELUActivation()\n",
       "          )\n",
       "          (output): BertOutput(\n",
       "            (dense): Linear(in_features=3072, out_features=768, bias=True)\n",
       "            (LayerNorm): LayerNorm((768,), eps=1e-12, elementwise_affine=True)\n",
       "            (dropout): Dropout(p=0.1, inplace=False)\n",
       "          )\n",
       "        )\n",
       "        (3): BertLayer(\n",
       "          (attention): BertAttention(\n",
       "            (self): BertSelfAttention(\n",
       "              (query): Linear(in_features=768, out_features=768, bias=True)\n",
       "              (key): Linear(in_features=768, out_features=768, bias=True)\n",
       "              (value): Linear(in_features=768, out_features=768, bias=True)\n",
       "              (dropout): Dropout(p=0.1, inplace=False)\n",
       "            )\n",
       "            (output): BertSelfOutput(\n",
       "              (dense): Linear(in_features=768, out_features=768, bias=True)\n",
       "              (LayerNorm): LayerNorm((768,), eps=1e-12, elementwise_affine=True)\n",
       "              (dropout): Dropout(p=0.1, inplace=False)\n",
       "            )\n",
       "          )\n",
       "          (intermediate): BertIntermediate(\n",
       "            (dense): Linear(in_features=768, out_features=3072, bias=True)\n",
       "            (intermediate_act_fn): GELUActivation()\n",
       "          )\n",
       "          (output): BertOutput(\n",
       "            (dense): Linear(in_features=3072, out_features=768, bias=True)\n",
       "            (LayerNorm): LayerNorm((768,), eps=1e-12, elementwise_affine=True)\n",
       "            (dropout): Dropout(p=0.1, inplace=False)\n",
       "          )\n",
       "        )\n",
       "        (4): BertLayer(\n",
       "          (attention): BertAttention(\n",
       "            (self): BertSelfAttention(\n",
       "              (query): Linear(in_features=768, out_features=768, bias=True)\n",
       "              (key): Linear(in_features=768, out_features=768, bias=True)\n",
       "              (value): Linear(in_features=768, out_features=768, bias=True)\n",
       "              (dropout): Dropout(p=0.1, inplace=False)\n",
       "            )\n",
       "            (output): BertSelfOutput(\n",
       "              (dense): Linear(in_features=768, out_features=768, bias=True)\n",
       "              (LayerNorm): LayerNorm((768,), eps=1e-12, elementwise_affine=True)\n",
       "              (dropout): Dropout(p=0.1, inplace=False)\n",
       "            )\n",
       "          )\n",
       "          (intermediate): BertIntermediate(\n",
       "            (dense): Linear(in_features=768, out_features=3072, bias=True)\n",
       "            (intermediate_act_fn): GELUActivation()\n",
       "          )\n",
       "          (output): BertOutput(\n",
       "            (dense): Linear(in_features=3072, out_features=768, bias=True)\n",
       "            (LayerNorm): LayerNorm((768,), eps=1e-12, elementwise_affine=True)\n",
       "            (dropout): Dropout(p=0.1, inplace=False)\n",
       "          )\n",
       "        )\n",
       "        (5): BertLayer(\n",
       "          (attention): BertAttention(\n",
       "            (self): BertSelfAttention(\n",
       "              (query): Linear(in_features=768, out_features=768, bias=True)\n",
       "              (key): Linear(in_features=768, out_features=768, bias=True)\n",
       "              (value): Linear(in_features=768, out_features=768, bias=True)\n",
       "              (dropout): Dropout(p=0.1, inplace=False)\n",
       "            )\n",
       "            (output): BertSelfOutput(\n",
       "              (dense): Linear(in_features=768, out_features=768, bias=True)\n",
       "              (LayerNorm): LayerNorm((768,), eps=1e-12, elementwise_affine=True)\n",
       "              (dropout): Dropout(p=0.1, inplace=False)\n",
       "            )\n",
       "          )\n",
       "          (intermediate): BertIntermediate(\n",
       "            (dense): Linear(in_features=768, out_features=3072, bias=True)\n",
       "            (intermediate_act_fn): GELUActivation()\n",
       "          )\n",
       "          (output): BertOutput(\n",
       "            (dense): Linear(in_features=3072, out_features=768, bias=True)\n",
       "            (LayerNorm): LayerNorm((768,), eps=1e-12, elementwise_affine=True)\n",
       "            (dropout): Dropout(p=0.1, inplace=False)\n",
       "          )\n",
       "        )\n",
       "        (6): BertLayer(\n",
       "          (attention): BertAttention(\n",
       "            (self): BertSelfAttention(\n",
       "              (query): Linear(in_features=768, out_features=768, bias=True)\n",
       "              (key): Linear(in_features=768, out_features=768, bias=True)\n",
       "              (value): Linear(in_features=768, out_features=768, bias=True)\n",
       "              (dropout): Dropout(p=0.1, inplace=False)\n",
       "            )\n",
       "            (output): BertSelfOutput(\n",
       "              (dense): Linear(in_features=768, out_features=768, bias=True)\n",
       "              (LayerNorm): LayerNorm((768,), eps=1e-12, elementwise_affine=True)\n",
       "              (dropout): Dropout(p=0.1, inplace=False)\n",
       "            )\n",
       "          )\n",
       "          (intermediate): BertIntermediate(\n",
       "            (dense): Linear(in_features=768, out_features=3072, bias=True)\n",
       "            (intermediate_act_fn): GELUActivation()\n",
       "          )\n",
       "          (output): BertOutput(\n",
       "            (dense): Linear(in_features=3072, out_features=768, bias=True)\n",
       "            (LayerNorm): LayerNorm((768,), eps=1e-12, elementwise_affine=True)\n",
       "            (dropout): Dropout(p=0.1, inplace=False)\n",
       "          )\n",
       "        )\n",
       "        (7): BertLayer(\n",
       "          (attention): BertAttention(\n",
       "            (self): BertSelfAttention(\n",
       "              (query): Linear(in_features=768, out_features=768, bias=True)\n",
       "              (key): Linear(in_features=768, out_features=768, bias=True)\n",
       "              (value): Linear(in_features=768, out_features=768, bias=True)\n",
       "              (dropout): Dropout(p=0.1, inplace=False)\n",
       "            )\n",
       "            (output): BertSelfOutput(\n",
       "              (dense): Linear(in_features=768, out_features=768, bias=True)\n",
       "              (LayerNorm): LayerNorm((768,), eps=1e-12, elementwise_affine=True)\n",
       "              (dropout): Dropout(p=0.1, inplace=False)\n",
       "            )\n",
       "          )\n",
       "          (intermediate): BertIntermediate(\n",
       "            (dense): Linear(in_features=768, out_features=3072, bias=True)\n",
       "            (intermediate_act_fn): GELUActivation()\n",
       "          )\n",
       "          (output): BertOutput(\n",
       "            (dense): Linear(in_features=3072, out_features=768, bias=True)\n",
       "            (LayerNorm): LayerNorm((768,), eps=1e-12, elementwise_affine=True)\n",
       "            (dropout): Dropout(p=0.1, inplace=False)\n",
       "          )\n",
       "        )\n",
       "        (8): BertLayer(\n",
       "          (attention): BertAttention(\n",
       "            (self): BertSelfAttention(\n",
       "              (query): Linear(in_features=768, out_features=768, bias=True)\n",
       "              (key): Linear(in_features=768, out_features=768, bias=True)\n",
       "              (value): Linear(in_features=768, out_features=768, bias=True)\n",
       "              (dropout): Dropout(p=0.1, inplace=False)\n",
       "            )\n",
       "            (output): BertSelfOutput(\n",
       "              (dense): Linear(in_features=768, out_features=768, bias=True)\n",
       "              (LayerNorm): LayerNorm((768,), eps=1e-12, elementwise_affine=True)\n",
       "              (dropout): Dropout(p=0.1, inplace=False)\n",
       "            )\n",
       "          )\n",
       "          (intermediate): BertIntermediate(\n",
       "            (dense): Linear(in_features=768, out_features=3072, bias=True)\n",
       "            (intermediate_act_fn): GELUActivation()\n",
       "          )\n",
       "          (output): BertOutput(\n",
       "            (dense): Linear(in_features=3072, out_features=768, bias=True)\n",
       "            (LayerNorm): LayerNorm((768,), eps=1e-12, elementwise_affine=True)\n",
       "            (dropout): Dropout(p=0.1, inplace=False)\n",
       "          )\n",
       "        )\n",
       "        (9): BertLayer(\n",
       "          (attention): BertAttention(\n",
       "            (self): BertSelfAttention(\n",
       "              (query): Linear(in_features=768, out_features=768, bias=True)\n",
       "              (key): Linear(in_features=768, out_features=768, bias=True)\n",
       "              (value): Linear(in_features=768, out_features=768, bias=True)\n",
       "              (dropout): Dropout(p=0.1, inplace=False)\n",
       "            )\n",
       "            (output): BertSelfOutput(\n",
       "              (dense): Linear(in_features=768, out_features=768, bias=True)\n",
       "              (LayerNorm): LayerNorm((768,), eps=1e-12, elementwise_affine=True)\n",
       "              (dropout): Dropout(p=0.1, inplace=False)\n",
       "            )\n",
       "          )\n",
       "          (intermediate): BertIntermediate(\n",
       "            (dense): Linear(in_features=768, out_features=3072, bias=True)\n",
       "            (intermediate_act_fn): GELUActivation()\n",
       "          )\n",
       "          (output): BertOutput(\n",
       "            (dense): Linear(in_features=3072, out_features=768, bias=True)\n",
       "            (LayerNorm): LayerNorm((768,), eps=1e-12, elementwise_affine=True)\n",
       "            (dropout): Dropout(p=0.1, inplace=False)\n",
       "          )\n",
       "        )\n",
       "        (10): BertLayer(\n",
       "          (attention): BertAttention(\n",
       "            (self): BertSelfAttention(\n",
       "              (query): Linear(in_features=768, out_features=768, bias=True)\n",
       "              (key): Linear(in_features=768, out_features=768, bias=True)\n",
       "              (value): Linear(in_features=768, out_features=768, bias=True)\n",
       "              (dropout): Dropout(p=0.1, inplace=False)\n",
       "            )\n",
       "            (output): BertSelfOutput(\n",
       "              (dense): Linear(in_features=768, out_features=768, bias=True)\n",
       "              (LayerNorm): LayerNorm((768,), eps=1e-12, elementwise_affine=True)\n",
       "              (dropout): Dropout(p=0.1, inplace=False)\n",
       "            )\n",
       "          )\n",
       "          (intermediate): BertIntermediate(\n",
       "            (dense): Linear(in_features=768, out_features=3072, bias=True)\n",
       "            (intermediate_act_fn): GELUActivation()\n",
       "          )\n",
       "          (output): BertOutput(\n",
       "            (dense): Linear(in_features=3072, out_features=768, bias=True)\n",
       "            (LayerNorm): LayerNorm((768,), eps=1e-12, elementwise_affine=True)\n",
       "            (dropout): Dropout(p=0.1, inplace=False)\n",
       "          )\n",
       "        )\n",
       "        (11): BertLayer(\n",
       "          (attention): BertAttention(\n",
       "            (self): BertSelfAttention(\n",
       "              (query): Linear(in_features=768, out_features=768, bias=True)\n",
       "              (key): Linear(in_features=768, out_features=768, bias=True)\n",
       "              (value): Linear(in_features=768, out_features=768, bias=True)\n",
       "              (dropout): Dropout(p=0.1, inplace=False)\n",
       "            )\n",
       "            (output): BertSelfOutput(\n",
       "              (dense): Linear(in_features=768, out_features=768, bias=True)\n",
       "              (LayerNorm): LayerNorm((768,), eps=1e-12, elementwise_affine=True)\n",
       "              (dropout): Dropout(p=0.1, inplace=False)\n",
       "            )\n",
       "          )\n",
       "          (intermediate): BertIntermediate(\n",
       "            (dense): Linear(in_features=768, out_features=3072, bias=True)\n",
       "            (intermediate_act_fn): GELUActivation()\n",
       "          )\n",
       "          (output): BertOutput(\n",
       "            (dense): Linear(in_features=3072, out_features=768, bias=True)\n",
       "            (LayerNorm): LayerNorm((768,), eps=1e-12, elementwise_affine=True)\n",
       "            (dropout): Dropout(p=0.1, inplace=False)\n",
       "          )\n",
       "        )\n",
       "      )\n",
       "    )\n",
       "    (pooler): BertPooler(\n",
       "      (dense): Linear(in_features=768, out_features=768, bias=True)\n",
       "      (activation): Tanh()\n",
       "    )\n",
       "  )\n",
       "  (dropout): Dropout(p=0.1, inplace=False)\n",
       "  (classifier): Linear(in_features=768, out_features=6, bias=True)\n",
       ")"
      ]
     },
     "execution_count": 10,
     "metadata": {},
     "output_type": "execute_result"
    }
   ],
   "source": [
    "model = BertForSequenceClassification.from_pretrained(\n",
    "    'bert-base-uncased',\n",
    "    num_labels = 6,\n",
    "    output_attentions = False,\n",
    "    output_hidden_states = False,\n",
    ")\n",
    "\n",
    "optimizer = torch.optim.AdamW(model.parameters(), \n",
    "                              lr = 5e-5,\n",
    "                              eps = 1e-08\n",
    "                              )\n",
    "\n",
    "model.cuda() # comment if no gpu available"
   ]
  },
  {
   "cell_type": "code",
   "execution_count": 11,
   "id": "0cc9b149",
   "metadata": {},
   "outputs": [
    {
     "name": "stdout",
     "output_type": "stream",
     "text": [
      "cuda\n"
     ]
    }
   ],
   "source": [
    "device = torch.device('cuda' if torch.cuda.is_available() else 'cpu')\n",
    "print(device)\n",
    "\n",
    "def train_model(model, epochs, full_train=False):\n",
    "    '''\n",
    "    Function to train model.\n",
    "    params :\n",
    "        - model model\n",
    "        - int epochs\n",
    "        - boolean full_train : if enabled, train model on train + val set\n",
    "    return : \n",
    "        - model\n",
    "    '''\n",
    "    \n",
    "    all_acc = [] # list of accuracy at different epochs\n",
    "    \n",
    "    msg = f'Currently : training model on train set, evaluate on validation set. {epochs} epochs.'\n",
    "    if full_train :\n",
    "        msg = f'Currently : training model on train + validation set for perf. {epochs} epochs.'\n",
    "    print(msg)\n",
    "\n",
    "    # training template\n",
    "    for _ in trange(epochs, desc = 'Epoch'):\n",
    "\n",
    "        # ========== Training ==========\n",
    "\n",
    "        # Set model to training mode\n",
    "        model.train()\n",
    "\n",
    "        # Tracking variables\n",
    "        tr_loss = 0\n",
    "        nb_tr_examples, nb_tr_steps = 0, 0\n",
    "        \n",
    "        loader = train_dataloader\n",
    "        if full_train :\n",
    "            loader = train_val_dataloader\n",
    "\n",
    "        for step, batch in enumerate(loader):\n",
    "            batch = tuple(t.to(device) for t in batch)\n",
    "            b_input_ids, b_input_mask, b_labels = batch\n",
    "            optimizer.zero_grad()\n",
    "            # Forward pass\n",
    "            train_output = model(b_input_ids, \n",
    "                                 token_type_ids = None, \n",
    "                                 attention_mask = b_input_mask, \n",
    "                                 labels = b_labels)\n",
    "            # Backward pass\n",
    "            train_output.loss.backward()\n",
    "            optimizer.step()\n",
    "            # Update tracking variables\n",
    "            tr_loss += train_output.loss.item()\n",
    "            nb_tr_examples += b_input_ids.size(0)\n",
    "            nb_tr_steps += 1\n",
    "\n",
    "        # ========== Validation ==========\n",
    "        if not full_train :\n",
    "            # Set model to evaluation mode\n",
    "            model.eval()\n",
    "\n",
    "            # Tracking variables \n",
    "            loss_lst = []\n",
    "            all_expected = []\n",
    "            all_predicted = []\n",
    "\n",
    "            for batch in validation_dataloader:\n",
    "                batch = tuple(t.to(device) for t in batch)\n",
    "                b_input_ids, b_input_mask, b_labels = batch\n",
    "                with torch.no_grad():\n",
    "                  # Forward pass\n",
    "                  eval_output = model(b_input_ids, \n",
    "                                      token_type_ids = None, \n",
    "                                      attention_mask = b_input_mask)\n",
    "                logits = eval_output.logits.detach().cpu().numpy()\n",
    "                label_ids = b_labels.to('cpu').numpy()\n",
    "\n",
    "                # Calculate validation metrics\n",
    "                preds = np.argmax(logits, axis = 1).flatten()\n",
    "\n",
    "                all_expected.extend(list(label_ids))\n",
    "                all_predicted.extend(list(preds))\n",
    "\n",
    "            loss_lst.append(tr_loss)\n",
    "            print('\\n\\t # Train loss: {:.4f}'.format(tr_loss / nb_tr_steps))\n",
    "            accuracy = metrics.accuracy_score(all_expected, all_predicted)\n",
    "            print(f'\\tAccuracy : {round(accuracy, 2)}')\n",
    "            all_acc.append(round(accuracy, 2))\n",
    "    return model, all_acc\n"
   ]
  },
  {
   "cell_type": "markdown",
   "id": "50ae3265",
   "metadata": {},
   "source": [
    "Evaluating model"
   ]
  },
  {
   "cell_type": "code",
   "execution_count": 35,
   "id": "36858869",
   "metadata": {},
   "outputs": [],
   "source": [
    "# --> should grid search on optimizer hyperparameters"
   ]
  },
  {
   "cell_type": "code",
   "execution_count": 36,
   "id": "83544f68",
   "metadata": {},
   "outputs": [
    {
     "name": "stdout",
     "output_type": "stream",
     "text": [
      "Currently : training model on train set, evaluate on validation set. 6 epochs.\n"
     ]
    },
    {
     "name": "stderr",
     "output_type": "stream",
     "text": [
      "Epoch:  17%|█▋        | 1/6 [05:20<26:44, 320.99s/it]"
     ]
    },
    {
     "name": "stdout",
     "output_type": "stream",
     "text": [
      "\n",
      "\t # Train loss: 0.2452\n",
      "\tAccuracy : 0.87\n"
     ]
    },
    {
     "name": "stderr",
     "output_type": "stream",
     "text": [
      "\r",
      "Epoch:  33%|███▎      | 2/6 [10:45<21:32, 323.02s/it]"
     ]
    },
    {
     "name": "stdout",
     "output_type": "stream",
     "text": [
      "\n",
      "\t # Train loss: 0.1935\n",
      "\tAccuracy : 0.87\n"
     ]
    },
    {
     "name": "stderr",
     "output_type": "stream",
     "text": [
      "\r",
      "Epoch:  50%|█████     | 3/6 [16:10<16:12, 324.08s/it]"
     ]
    },
    {
     "name": "stdout",
     "output_type": "stream",
     "text": [
      "\n",
      "\t # Train loss: 0.1451\n",
      "\tAccuracy : 0.87\n"
     ]
    },
    {
     "name": "stderr",
     "output_type": "stream",
     "text": [
      "\r",
      "Epoch:  67%|██████▋   | 4/6 [21:34<10:47, 323.93s/it]"
     ]
    },
    {
     "name": "stdout",
     "output_type": "stream",
     "text": [
      "\n",
      "\t # Train loss: 0.1088\n",
      "\tAccuracy : 0.86\n"
     ]
    },
    {
     "name": "stderr",
     "output_type": "stream",
     "text": [
      "\r",
      "Epoch:  83%|████████▎ | 5/6 [26:57<05:23, 323.43s/it]"
     ]
    },
    {
     "name": "stdout",
     "output_type": "stream",
     "text": [
      "\n",
      "\t # Train loss: 0.0832\n",
      "\tAccuracy : 0.87\n"
     ]
    },
    {
     "name": "stderr",
     "output_type": "stream",
     "text": [
      "Epoch: 100%|██████████| 6/6 [32:18<00:00, 323.16s/it]"
     ]
    },
    {
     "name": "stdout",
     "output_type": "stream",
     "text": [
      "\n",
      "\t # Train loss: 0.0769\n",
      "\tAccuracy : 0.86\n"
     ]
    },
    {
     "name": "stderr",
     "output_type": "stream",
     "text": [
      "\n"
     ]
    }
   ],
   "source": [
    "model, all_acc = train_model(model, epochs = 6, full_train=False)"
   ]
  },
  {
   "cell_type": "code",
   "execution_count": 43,
   "id": "4103cdea",
   "metadata": {},
   "outputs": [],
   "source": [
    "#plt.plot(all_acc)"
   ]
  },
  {
   "cell_type": "markdown",
   "id": "3420c987",
   "metadata": {},
   "source": [
    "Full training model"
   ]
  },
  {
   "cell_type": "code",
   "execution_count": 12,
   "id": "97c1519b",
   "metadata": {},
   "outputs": [
    {
     "name": "stderr",
     "output_type": "stream",
     "text": [
      "Some weights of the model checkpoint at bert-base-uncased were not used when initializing BertForSequenceClassification: ['cls.predictions.decoder.weight', 'cls.seq_relationship.weight', 'cls.predictions.transform.LayerNorm.weight', 'cls.predictions.bias', 'cls.predictions.transform.dense.bias', 'cls.predictions.transform.dense.weight', 'cls.seq_relationship.bias', 'cls.predictions.transform.LayerNorm.bias']\n",
      "- This IS expected if you are initializing BertForSequenceClassification from the checkpoint of a model trained on another task or with another architecture (e.g. initializing a BertForSequenceClassification model from a BertForPreTraining model).\n",
      "- This IS NOT expected if you are initializing BertForSequenceClassification from the checkpoint of a model that you expect to be exactly identical (initializing a BertForSequenceClassification model from a BertForSequenceClassification model).\n",
      "Some weights of BertForSequenceClassification were not initialized from the model checkpoint at bert-base-uncased and are newly initialized: ['classifier.bias', 'classifier.weight']\n",
      "You should probably TRAIN this model on a down-stream task to be able to use it for predictions and inference.\n"
     ]
    },
    {
     "name": "stdout",
     "output_type": "stream",
     "text": [
      "Currently : training model on train + validation set for perf. 3 epochs.\n"
     ]
    },
    {
     "name": "stderr",
     "output_type": "stream",
     "text": [
      "Epoch: 100%|██████████| 3/3 [19:05<00:00, 381.68s/it]\n"
     ]
    }
   ],
   "source": [
    "model_full_trained = BertForSequenceClassification.from_pretrained(\n",
    "    'bert-base-uncased',\n",
    "    num_labels = 6,\n",
    "    output_attentions = False,\n",
    "    output_hidden_states = False,\n",
    ")\n",
    "\n",
    "optimizer = torch.optim.AdamW(model.parameters(), \n",
    "                              lr = 5e-5,\n",
    "                              eps = 1e-08\n",
    "                              )\n",
    "\n",
    "model_full_trained.cuda() # comment if no gpu available\n",
    "\n",
    "model_full_trained, all_acc = train_model(model, epochs = 3, full_train=True)"
   ]
  },
  {
   "cell_type": "markdown",
   "id": "fa645eb0",
   "metadata": {},
   "source": [
    "Testing results"
   ]
  },
  {
   "cell_type": "code",
   "execution_count": 13,
   "id": "da715437",
   "metadata": {},
   "outputs": [],
   "source": [
    "# load test data\n",
    "\n",
    "# preparing test data\n",
    "token_id = []\n",
    "attention_masks = []\n",
    "\n",
    "df_test = pd.read_csv(\"data/test.txt\", names=[\"text\", \"emotion\"], sep=\";\")\n",
    "labels_test = [emotion_list.index(em) for em in df_test['emotion']]\n",
    "test_text = list(df_test['text'])\n",
    "\n",
    "\n",
    "for sentence in test_text:\n",
    "    encoding_dict = bert_preprocess(sentence, tokenizer)\n",
    "    token_id.append(encoding_dict['input_ids']) \n",
    "    attention_masks.append(encoding_dict['attention_mask'])\n",
    "\n",
    "token_id = torch.cat(token_id, dim = 0)\n",
    "attention_masks = torch.cat(attention_masks, dim = 0)\n",
    "labels_test = torch.tensor(labels_test)\n",
    "\n",
    "\n",
    "test_set = TensorDataset(token_id[:], \n",
    "                        attention_masks[:], \n",
    "                        labels_test[:])\n",
    "\n",
    "\n",
    "\n",
    "test_dataloader = DataLoader(\n",
    "            test_set,\n",
    "            sampler = SequentialSampler(test_set),\n",
    "            batch_size = batch_size\n",
    "        )\n",
    "\n"
   ]
  },
  {
   "cell_type": "code",
   "execution_count": 14,
   "id": "3c13c5dc",
   "metadata": {},
   "outputs": [
    {
     "name": "stdout",
     "output_type": "stream",
     "text": [
      "done\n"
     ]
    }
   ],
   "source": [
    "all_expected = []\n",
    "all_predicted = []\n",
    "\n",
    "for batch in test_dataloader:\n",
    "    batch = tuple(t.to(device) for t in batch)\n",
    "    b_input_ids, b_input_mask, b_labels = batch\n",
    "    with torch.no_grad():\n",
    "      # Forward pass\n",
    "      eval_output = model_full_trained(b_input_ids, \n",
    "                          token_type_ids = None, \n",
    "                          attention_mask = b_input_mask)\n",
    "    logits = eval_output.logits.detach().cpu().numpy()\n",
    "    label_ids = b_labels.to('cpu').numpy()\n",
    "\n",
    "    preds = np.argmax(logits, axis = 1).flatten()\n",
    "    \n",
    "    all_expected.extend(list(label_ids))\n",
    "    all_predicted.extend(list(preds))\n",
    "print('done')"
   ]
  },
  {
   "cell_type": "code",
   "execution_count": 27,
   "id": "9872bcac",
   "metadata": {},
   "outputs": [
    {
     "name": "stdout",
     "output_type": "stream",
     "text": [
      "Accuracy: 0.86\n",
      "\n",
      "Details :\n",
      "0 : sadness\n",
      "1 : anger\n",
      "2 : love\n",
      "3 : surprise\n",
      "4 : fear\n",
      "5 : joy\n",
      "              precision    recall  f1-score   support\n",
      "\n",
      "           0       0.90      0.91      0.90       581\n",
      "           1       0.90      0.84      0.87       275\n",
      "           2       0.69      0.77      0.73       159\n",
      "           3       0.68      0.73      0.70        66\n",
      "           4       0.70      0.84      0.76       224\n",
      "           5       0.93      0.86      0.90       695\n",
      "\n",
      "    accuracy                           0.86      2000\n",
      "   macro avg       0.80      0.82      0.81      2000\n",
      "weighted avg       0.87      0.86      0.86      2000\n",
      "\n",
      "\n"
     ]
    },
    {
     "data": {
      "image/png": "[encoded data removed]",
      "text/plain": [
       "<Figure size 640x480 with 1 Axes>"
      ]
     },
     "metadata": {},
     "output_type": "display_data"
    }
   ],
   "source": [
    "# evaluate results\n",
    "evaluate_model(all_expected, all_predicted)"
   ]
  },
  {
   "cell_type": "code",
   "execution_count": null,
   "id": "1d59c77a",
   "metadata": {},
   "outputs": [],
   "source": []
  },
  {
   "cell_type": "markdown",
   "id": "8e1a1151",
   "metadata": {},
   "source": [
    "## Resulting accuracy"
   ]
  },
  {
   "cell_type": "code",
   "execution_count": 28,
   "id": "ca01ceac",
   "metadata": {},
   "outputs": [
    {
     "name": "stdout",
     "output_type": "stream",
     "text": [
      "Accuracy with simple tf/idf : 0.77\n",
      "Accuracy with refined vocabulary : 0.9\n",
      "Accuracy for now with bert : 0.86\n"
     ]
    }
   ],
   "source": [
    "print(f'Accuracy with simple tf/idf : 0.77')\n",
    "print('Accuracy with refined vocabulary : 0.9')\n",
    "print('Accuracy for now with bert : 0.86')"
   ]
  }
 ],
 "metadata": {
  "kernelspec": {
   "display_name": "Python 3 (ipykernel)",
   "language": "python",
   "name": "python3"
  },
  "language_info": {
   "codemirror_mode": {
    "name": "ipython",
    "version": 3
   },
   "file_extension": ".py",
   "mimetype": "text/x-python",
   "name": "python",
   "nbconvert_exporter": "python",
   "pygments_lexer": "ipython3",
   "version": "3.9.13"
  }
 },
 "nbformat": 4,
 "nbformat_minor": 5
}
