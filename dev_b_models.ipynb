{
 "cells": [
  {
   "cell_type": "markdown",
   "id": "19962238",
   "metadata": {},
   "source": [
    "## First models"
   ]
  },
  {
   "cell_type": "markdown",
   "id": "35c84bad",
   "metadata": {},
   "source": [
    "### Imports"
   ]
  },
  {
   "cell_type": "code",
   "execution_count": 1,
   "id": "3fbc3733",
   "metadata": {},
   "outputs": [
    {
     "name": "stderr",
     "output_type": "stream",
     "text": [
      "[nltk_data] Downloading package wordnet to\n",
      "[nltk_data]     C:\\Users\\bapti\\AppData\\Roaming\\nltk_data...\n",
      "[nltk_data]   Package wordnet is already up-to-date!\n",
      "[nltk_data] Downloading package omw-1.4 to\n",
      "[nltk_data]     C:\\Users\\bapti\\AppData\\Roaming\\nltk_data...\n",
      "[nltk_data]   Package omw-1.4 is already up-to-date!\n",
      "[nltk_data] Downloading package punkt to\n",
      "[nltk_data]     C:\\Users\\bapti\\AppData\\Roaming\\nltk_data...\n",
      "[nltk_data]   Package punkt is already up-to-date!\n"
     ]
    },
    {
     "data": {
      "text/plain": [
       "True"
      ]
     },
     "execution_count": 1,
     "metadata": {},
     "output_type": "execute_result"
    }
   ],
   "source": [
    "import pandas as pd\n",
    "import seaborn as sns\n",
    "import matplotlib.pyplot as plt\n",
    "import nltk\n",
    "from nltk.stem import WordNetLemmatizer\n",
    "from nltk.stem import SnowballStemmer\n",
    "import time\n",
    "import numpy as np\n",
    "\n",
    "import ast\n",
    "from collections import Counter\n",
    "\n",
    "from sklearn import feature_extraction, model_selection, naive_bayes, pipeline, manifold, preprocessing, feature_selection, metrics\n",
    "from nrclex import NRCLex\n",
    "\n",
    "import warnings\n",
    "warnings.filterwarnings('ignore')\n",
    "\n",
    "nltk.download('wordnet')\n",
    "nltk.download('omw-1.4')\n",
    "nltk.download('punkt')"
   ]
  },
  {
   "cell_type": "code",
   "execution_count": 2,
   "id": "c56b2b5e",
   "metadata": {},
   "outputs": [
    {
     "data": {
      "text/html": [
       "<div>\n",
       "<style scoped>\n",
       "    .dataframe tbody tr th:only-of-type {\n",
       "        vertical-align: middle;\n",
       "    }\n",
       "\n",
       "    .dataframe tbody tr th {\n",
       "        vertical-align: top;\n",
       "    }\n",
       "\n",
       "    .dataframe thead th {\n",
       "        text-align: right;\n",
       "    }\n",
       "</style>\n",
       "<table border=\"1\" class=\"dataframe\">\n",
       "  <thead>\n",
       "    <tr style=\"text-align: right;\">\n",
       "      <th></th>\n",
       "      <th>text</th>\n",
       "      <th>emotion</th>\n",
       "    </tr>\n",
       "  </thead>\n",
       "  <tbody>\n",
       "    <tr>\n",
       "      <th>0</th>\n",
       "      <td>i didnt feel humiliated</td>\n",
       "      <td>sadness</td>\n",
       "    </tr>\n",
       "    <tr>\n",
       "      <th>1</th>\n",
       "      <td>i can go from feeling so hopeless to so damned...</td>\n",
       "      <td>sadness</td>\n",
       "    </tr>\n",
       "    <tr>\n",
       "      <th>2</th>\n",
       "      <td>im grabbing a minute to post i feel greedy wrong</td>\n",
       "      <td>anger</td>\n",
       "    </tr>\n",
       "    <tr>\n",
       "      <th>3</th>\n",
       "      <td>i am ever feeling nostalgic about the fireplac...</td>\n",
       "      <td>love</td>\n",
       "    </tr>\n",
       "    <tr>\n",
       "      <th>4</th>\n",
       "      <td>i am feeling grouchy</td>\n",
       "      <td>anger</td>\n",
       "    </tr>\n",
       "  </tbody>\n",
       "</table>\n",
       "</div>"
      ],
      "text/plain": [
       "                                                text  emotion\n",
       "0                            i didnt feel humiliated  sadness\n",
       "1  i can go from feeling so hopeless to so damned...  sadness\n",
       "2   im grabbing a minute to post i feel greedy wrong    anger\n",
       "3  i am ever feeling nostalgic about the fireplac...     love\n",
       "4                               i am feeling grouchy    anger"
      ]
     },
     "execution_count": 2,
     "metadata": {},
     "output_type": "execute_result"
    }
   ],
   "source": [
    "df_train = pd.read_csv(\"data/train.txt\", names=[\"text\", \"emotion\"], sep=\";\")\n",
    "df_test = pd.read_csv(\"data/test.txt\", names=[\"text\", \"emotion\"], sep=\";\")\n",
    "df_train.head()"
   ]
  },
  {
   "cell_type": "markdown",
   "id": "2b3ec7d7",
   "metadata": {},
   "source": [
    "### Data prep"
   ]
  },
  {
   "cell_type": "code",
   "execution_count": 3,
   "id": "17e41c79",
   "metadata": {},
   "outputs": [],
   "source": [
    "# load stopwords\n",
    "sw_file = open('misc/stopwords.txt', \"r\")\n",
    "try :\n",
    "    content = sw_file.read()\n",
    "    stopwords = ast.literal_eval(content)\n",
    "finally:\n",
    "    sw_file.close()\n",
    "    \n",
    "# separate text and labels\n",
    "X, y = list(df_train['text']), list(df_train['emotion'])\n",
    "\n",
    "# Turn labels to numeric\n",
    "emotion_list = list(df_train['emotion'].unique())\n",
    "y_names = list(df_train['emotion'])\n",
    "y = [emotion_list.index(em) for em in y]\n",
    "\n"
   ]
  },
  {
   "cell_type": "code",
   "execution_count": 4,
   "id": "7006f002",
   "metadata": {},
   "outputs": [],
   "source": [
    "\n",
    "def preprocess(text_lst, sw=False, stem=False, lem=True):\n",
    "    \"\"\"\n",
    "    Apply different preprocessing.\n",
    "    returns :\n",
    "        - list of texts preprocessed\n",
    "    params : \n",
    "        - list(str) text_lst : list of text to preprocess\n",
    "        - bool sw : enable to remove stopwords\n",
    "        - bool stem : enable to stem text\n",
    "        - bool lem : enable to lemmatize text\n",
    "    \"\"\"\n",
    "    time_start = time.time()\n",
    "    if sw :\n",
    "        text_lst = [' '.join([word for word in x.split() if word not in (stopwords)]) for x in text_lst]\n",
    "    \n",
    "    stemmer = SnowballStemmer('english')\n",
    "    lem = WordNetLemmatizer()\n",
    "    \n",
    "    if stem and lem :\n",
    "        text_lst = [' '.join([stemmer.stem(lem.lemmatize(word)) for word in x.split()]) for x in text_lst]\n",
    "    \n",
    "    elif stem :\n",
    "        text_lst = [' '.join([stemmer.stem(word) for word in x.split()]) for x in text_lst]\n",
    "        \n",
    "    elif lem :\n",
    "        text_lst = [' '.join([lem.lemmatize(word) for word in x.split()]) for x in text_lst]\n",
    "    \n",
    "    print(f'Time elapsed : {round(time.time() - time_start, 2)} s')\n",
    "    \n",
    "    return text_lst\n",
    "\n",
    "#X_preproc = preprocess(X, sw=False, stem=True, lem=True)"
   ]
  },
  {
   "cell_type": "markdown",
   "id": "246993cd",
   "metadata": {},
   "source": [
    "### Models"
   ]
  },
  {
   "cell_type": "markdown",
   "id": "3fb965be",
   "metadata": {},
   "source": [
    "### #1 Simple classification with tf/idf"
   ]
  },
  {
   "cell_type": "markdown",
   "id": "4770bf86",
   "metadata": {},
   "source": [
    "#### Text encoding : tf/idf with refined vocabulary"
   ]
  },
  {
   "cell_type": "code",
   "execution_count": 133,
   "id": "6f0d0a5a",
   "metadata": {},
   "outputs": [
    {
     "name": "stdout",
     "output_type": "stream",
     "text": [
      "Time elapsed : 2.61 s\n"
     ]
    }
   ],
   "source": [
    "# preprocessing\n",
    "X_preproc = preprocess(X, sw=True, stem=True, lem=True)"
   ]
  },
  {
   "cell_type": "code",
   "execution_count": 134,
   "id": "3e5e7c2f",
   "metadata": {},
   "outputs": [],
   "source": [
    "# tfidf vectorizer\n",
    "vectorizer = feature_extraction.text.TfidfVectorizer(max_features=10000, ngram_range=(1,2))\n",
    "vectorizer.fit(X_preproc)\n",
    "X_train = vectorizer.transform(X_preproc)\n",
    "vocabulary = vectorizer.vocabulary_ # getting vcabulary"
   ]
  },
  {
   "cell_type": "code",
   "execution_count": 135,
   "id": "9acd580c",
   "metadata": {},
   "outputs": [
    {
     "name": "stdout",
     "output_type": "stream",
     "text": [
      "# sadness\n",
      "Top features selected : 590\n",
      "['punish' 'miser' 'gloomi' 'discourag' 'dishearten' 'exhaust' 'melancholi'\n",
      " 'sorri' 'listless' 'letharg']\n",
      "\n",
      "# anger\n",
      "Top features selected : 303\n",
      "['angri' 'annoy' 'bitchi' 'bitter' 'bother' 'cold' 'cranki' 'danger'\n",
      " 'disgust' 'dissatisfi']\n",
      "\n",
      "# love\n",
      "Top features selected : 298\n",
      "['belov' 'care' 'compassion' 'delic' 'feel gentl' 'feel horni' 'feel hot'\n",
      " 'feel long' 'feel love' 'feel naughti']\n",
      "\n",
      "# surprise\n",
      "Top features selected : 253\n",
      "['amaz' 'curious' 'daze' 'feel amaz' 'feel curious' 'feel daze'\n",
      " 'feel funni' 'feel impress' 'feel overwhelm' 'feel shock']\n",
      "\n",
      "# fear\n",
      "Top features selected : 264\n",
      "['afraid' 'anxious' 'apprehens' 'distraught' 'distress' 'feel afraid'\n",
      " 'feel anxious' 'feel apprehens' 'feel hesit' 'feel insecur']\n",
      "\n",
      "# joy\n",
      "Top features selected : 626\n",
      "['content' 'honor' 'feel content' 'success' 'divin' 'feel honor' 'satisfi'\n",
      " 'glad' 'brave' 'festiv']\n",
      "\n"
     ]
    }
   ],
   "source": [
    "# Chi square test to test features independancy : dimensionality reduction\n",
    "# print below features linked to each subject\n",
    "\n",
    "X_names = vectorizer.get_feature_names()\n",
    "p_val = .95\n",
    "\n",
    "features = pd.DataFrame()\n",
    "for cat in np.unique(y):\n",
    "    chi2, p = feature_selection.chi2(X_train, y==cat)\n",
    "    features = features.append(pd.DataFrame(\n",
    "                   {\"feature\":X_names, \"score\":1-p, \"y\":cat}))\n",
    "    features = features.sort_values([\"y\",\"score\"], \n",
    "                    ascending=[True,False])\n",
    "    features = features[features[\"score\"]>p_val]\n",
    "\n",
    "X_names = features[\"feature\"].unique().tolist()\n",
    "\n",
    "for cat in np.unique(y):\n",
    "    print(f'# {emotion_list[cat]}')\n",
    "    print(f'Top features selected : {len(dtf_features[dtf_features[\"y\"]==cat])}')\n",
    "    print(dtf_features[dtf_features[\"y\"]==cat][\"feature\"].values[:10])\n",
    "    print()"
   ]
  },
  {
   "cell_type": "code",
   "execution_count": 136,
   "id": "56606f24",
   "metadata": {},
   "outputs": [],
   "source": [
    "# vectorizer with our new reduced vocabulary as input\n",
    "\n",
    "vectorizer = feature_extraction.text.TfidfVectorizer(vocabulary=X_names)\n",
    "vectorizer.fit(X_preproc)\n",
    "X_train = vectorizer.transform(X_preproc)\n",
    "voc = vectorizer.vocabulary_\n"
   ]
  },
  {
   "cell_type": "code",
   "execution_count": 137,
   "id": "817dde74",
   "metadata": {},
   "outputs": [
    {
     "name": "stdout",
     "output_type": "stream",
     "text": [
      "16000\n",
      "16000\n"
     ]
    }
   ],
   "source": [
    "print(X_train.shape[0])\n",
    "print(len(y))"
   ]
  },
  {
   "cell_type": "markdown",
   "id": "2e745774",
   "metadata": {},
   "source": [
    "#### First model : Naive bayes"
   ]
  },
  {
   "cell_type": "code",
   "execution_count": 138,
   "id": "f4b37644",
   "metadata": {},
   "outputs": [
    {
     "name": "stdout",
     "output_type": "stream",
     "text": [
      "Time elapsed : 0.3 s\n"
     ]
    }
   ],
   "source": [
    "classifier = naive_bayes.MultinomialNB()\n",
    "\n",
    "# creating a pipeline\n",
    "model = pipeline.Pipeline([(\"vectorizer\", vectorizer), (\"classifier\", classifier)])\n",
    "model[\"classifier\"].fit(X_train, y)\n",
    "\n",
    "# Test set preparation\n",
    "X_test = list(df_test[\"text\"])\n",
    "X_test_preproc = preprocess(X_test, sw=True, stem=True, lem=True)\n",
    "y_test = [emotion_list.index(em) for em in list(df_test[\"emotion\"])]\n",
    "\n",
    "# prediction\n",
    "predicted = model.predict(X_test_preproc)\n",
    "predicted_prob = model.predict_proba(X_test_preproc)\n"
   ]
  },
  {
   "cell_type": "code",
   "execution_count": 139,
   "id": "4f71d456",
   "metadata": {},
   "outputs": [
    {
     "name": "stdout",
     "output_type": "stream",
     "text": [
      "Accuracy: 0.86\n",
      "Auc: 0.98\n",
      "\n",
      "Results :\n",
      "0 : sadness\n",
      "1 : anger\n",
      "2 : love\n",
      "3 : surprise\n",
      "4 : fear\n",
      "5 : joy\n",
      "              precision    recall  f1-score   support\n",
      "\n",
      "           0       0.88      0.93      0.91       581\n",
      "           1       0.89      0.83      0.86       275\n",
      "           2       0.96      0.45      0.62       159\n",
      "           3       1.00      0.21      0.35        66\n",
      "           4       0.87      0.80      0.83       224\n",
      "           5       0.81      0.98      0.89       695\n",
      "\n",
      "    accuracy                           0.86      2000\n",
      "   macro avg       0.90      0.70      0.74      2000\n",
      "weighted avg       0.87      0.86      0.84      2000\n",
      "\n",
      "\n"
     ]
    },
    {
     "data": {
      "image/png": "[encoded data removed]",
      "text/plain": [
       "<Figure size 640x480 with 1 Axes>"
      ]
     },
     "metadata": {},
     "output_type": "display_data"
    }
   ],
   "source": [
    "### Results\n",
    "\n",
    "emotions = np.unique(y_test)\n",
    "\n",
    "# Metrics\n",
    "accuracy = metrics.accuracy_score(y_test, predicted)\n",
    "auc = metrics.roc_auc_score(y_test, predicted_prob, \n",
    "                            multi_class=\"ovr\")\n",
    "print(\"Accuracy:\",  round(accuracy,2))\n",
    "print(\"Auc:\", round(auc,2))\n",
    "print()\n",
    "print(\"Results :\")\n",
    "for idx, em in enumerate([emotion_list[em] for em in emotions]) :\n",
    "    print(f'{idx} : {em}')\n",
    "print(metrics.classification_report(y_test, predicted))\n",
    "\n",
    "# Plot confusion matrix\n",
    "cm = metrics.confusion_matrix(y_test, predicted)\n",
    "fig, ax = plt.subplots()\n",
    "sns.heatmap(cm, annot=True, fmt='d', ax=ax, cmap=plt.cm.Blues, \n",
    "            cbar=False)\n",
    "ax.set(xlabel=\"Pred\", ylabel=\"True\", xticklabels=[emotion_list[em] for em in emotions], \n",
    "       yticklabels=[emotion_list[em] for em in emotions], title=\"Confusion matrix\")\n",
    "plt.yticks(rotation=0)\n",
    "print()\n"
   ]
  },
  {
   "cell_type": "markdown",
   "id": "d6f1fb55",
   "metadata": {},
   "source": [
    "#### Lm based approach : Bert"
   ]
  },
  {
   "cell_type": "code",
   "execution_count": 33,
   "id": "d3830019",
   "metadata": {},
   "outputs": [],
   "source": [
    "# imports\n",
    "from transformers import BertTokenizer, BertForSequenceClassification, DistilBertTokenizer\n",
    "import random\n",
    "import tabulate\n",
    "import torch\n",
    "from torch.utils.data import TensorDataset, DataLoader, RandomSampler, SequentialSampler\n",
    "from sklearn.model_selection import train_test_split\n",
    "from tqdm import trange"
   ]
  },
  {
   "cell_type": "code",
   "execution_count": 9,
   "id": "c0054be3",
   "metadata": {},
   "outputs": [],
   "source": [
    "# with lighter version distillbert\n",
    "tokenizer = DistilBertTokenizer.from_pretrained('distilbert-base-uncased', do_lower_case=True)"
   ]
  },
  {
   "cell_type": "code",
   "execution_count": 18,
   "id": "de9a7870",
   "metadata": {},
   "outputs": [
    {
     "name": "stdout",
     "output_type": "stream",
     "text": [
      "max len : 18\n"
     ]
    }
   ],
   "source": [
    "# load corpus and labels\n",
    "text, y = list(df_train['text']), list(df_train['emotion']) # taking raw text\n",
    "labels = [emotion_list.index(em) for em in y]\n",
    "df_val = df_test = pd.read_csv(\"data/val.txt\", names=[\"text\", \"emotion\"], sep=\";\") \n",
    "\n",
    "# adding val set (to get the maxlen) --> resplitting it later\n",
    "text.extend(list(df_test['text']))\n",
    "labels.extend([emotion_list.index(em) for em in list(df_val['emotion'])])\n",
    "\n",
    "# determining maxlen needed\n",
    "maxlen = 0\n",
    "for sent in list(text):\n",
    "    if len(sent) > maxlen :\n",
    "        maxlen = len(sent.split(' '))\n",
    "print(f'max len : {maxlen}')\n"
   ]
  },
  {
   "cell_type": "markdown",
   "id": "fd5c5456",
   "metadata": {},
   "source": [
    "Preprocessing"
   ]
  },
  {
   "cell_type": "code",
   "execution_count": 19,
   "id": "b16f1453",
   "metadata": {},
   "outputs": [
    {
     "name": "stdout",
     "output_type": "stream",
     "text": [
      "Sentence tokenized example :\n",
      "i didnt feel humiliated :\n",
      "tensor([  101,  1045,  2134,  2102,  2514, 26608,   102,     0,     0,     0,\n",
      "            0,     0,     0,     0,     0,     0,     0,     0,     0,     0])\n"
     ]
    }
   ],
   "source": [
    "## BERT preprocessing requirements\n",
    "# Adding CLS and END tokens, normalize sentence length, create attention mask\n",
    "\n",
    "def bert_preprocess(text, tokenizer):\n",
    "    \"\"\"\n",
    "    Apply preprocessing needed for bert. see comment above\n",
    "    \"\"\"\n",
    "    return tokenizer.encode_plus(\n",
    "        text,\n",
    "        add_special_tokens = True,\n",
    "        max_length = 20,\n",
    "        pad_to_max_length = True,\n",
    "        return_attention_mask = True,\n",
    "        truncation = True,\n",
    "        return_tensors = 'pt',\n",
    "    )\n",
    "\n",
    "token_id = []\n",
    "attention_masks = []\n",
    "\n",
    "for sentence in text:\n",
    "    encoding_dict = bert_preprocess(sentence, tokenizer)\n",
    "    token_id.append(encoding_dict['input_ids']) \n",
    "    attention_masks.append(encoding_dict['attention_mask'])\n",
    "\n",
    "token_id = torch.cat(token_id, dim = 0)\n",
    "attention_masks = torch.cat(attention_masks, dim = 0)\n",
    "labels = torch.tensor(labels)\n",
    "\n",
    "print(f'Sentence tokenized example :\\n{text[0]} :\\n{token_id[0]}')"
   ]
  },
  {
   "cell_type": "code",
   "execution_count": 44,
   "id": "ae5bddcd",
   "metadata": {},
   "outputs": [],
   "source": [
    "val_ratio = .2\n",
    "batch_size = 16\n",
    "\n",
    "# resplitting val set\n",
    "train_idx, val_idx = train_test_split(\n",
    "    np.arange(len(labels)),\n",
    "    test_size = val_ratio,\n",
    "    shuffle = True,\n",
    "    stratify = labels)\n",
    "\n",
    "# train set 80%\n",
    "train_set = TensorDataset(token_id[train_idx], \n",
    "                          attention_masks[train_idx], \n",
    "                          labels[train_idx])\n",
    "\n",
    "# validation set 20%\n",
    "val_set = TensorDataset(token_id[val_idx], \n",
    "                        attention_masks[val_idx], \n",
    "                        labels[val_idx])\n",
    "\n",
    "\n",
    "\n",
    "# dataloaders\n",
    "train_dataloader = DataLoader(\n",
    "            train_set,\n",
    "            sampler = RandomSampler(train_set),\n",
    "            batch_size = batch_size\n",
    "        )\n",
    "\n",
    "validation_dataloader = DataLoader(\n",
    "            val_set,\n",
    "            sampler = SequentialSampler(val_set),\n",
    "            batch_size = batch_size\n",
    "        )\n"
   ]
  },
  {
   "cell_type": "markdown",
   "id": "bce855c4",
   "metadata": {},
   "source": [
    "Fine-tuning :\n",
    "- hyperparameters based on https://arxiv.org/pdf/1810.04805.pdf"
   ]
  },
  {
   "cell_type": "code",
   "execution_count": 39,
   "id": "9f678104",
   "metadata": {},
   "outputs": [],
   "source": [
    "# Metrics :\n",
    "def get_metrics(preds, labels):\n",
    "    '''\n",
    "    returns metrics\n",
    "    '''\n",
    "    preds = np.argmax(preds, axis = 1).flatten()\n",
    "    labels = labels.flatten()\n",
    "    tp = sum([preds == labels and preds == 1 for preds, labels in zip(preds, labels)])\n",
    "    tn = sum([preds == labels and preds == 0 for preds, labels in zip(preds, labels)])\n",
    "    fp = sum([preds != labels and preds == 1 for preds, labels in zip(preds, labels)])\n",
    "    fn = sum([preds != labels and preds == 0 for preds, labels in zip(preds, labels)])\n",
    "    b_accuracy = (tp + tn) / len(labels)\n",
    "    b_recall = tp / (tp + fn) if (tp + fn) > 0 else 'nan'\n",
    "    \n",
    "    return b_accuracy, b_recall"
   ]
  },
  {
   "cell_type": "code",
   "execution_count": 37,
   "id": "088a2cab",
   "metadata": {},
   "outputs": [
    {
     "name": "stderr",
     "output_type": "stream",
     "text": [
      "Some weights of the model checkpoint at bert-base-uncased were not used when initializing BertForSequenceClassification: ['cls.predictions.bias', 'cls.predictions.transform.dense.bias', 'cls.predictions.transform.dense.weight', 'cls.predictions.decoder.weight', 'cls.seq_relationship.weight', 'cls.seq_relationship.bias', 'cls.predictions.transform.LayerNorm.bias', 'cls.predictions.transform.LayerNorm.weight']\n",
      "- This IS expected if you are initializing BertForSequenceClassification from the checkpoint of a model trained on another task or with another architecture (e.g. initializing a BertForSequenceClassification model from a BertForPreTraining model).\n",
      "- This IS NOT expected if you are initializing BertForSequenceClassification from the checkpoint of a model that you expect to be exactly identical (initializing a BertForSequenceClassification model from a BertForSequenceClassification model).\n",
      "Some weights of BertForSequenceClassification were not initialized from the model checkpoint at bert-base-uncased and are newly initialized: ['classifier.bias', 'classifier.weight']\n",
      "You should probably TRAIN this model on a down-stream task to be able to use it for predictions and inference.\n"
     ]
    }
   ],
   "source": [
    "model = BertForSequenceClassification.from_pretrained(\n",
    "    'bert-base-uncased',\n",
    "    num_labels = 6,\n",
    "    output_attentions = False,\n",
    "    output_hidden_states = False,\n",
    ")\n",
    "\n",
    "optimizer = torch.optim.AdamW(model.parameters(), \n",
    "                              lr = 5e-5,\n",
    "                              eps = 1e-08\n",
    "                              )\n",
    "\n",
    "# model.cuda() # comment if no gpu available"
   ]
  },
  {
   "cell_type": "code",
   "execution_count": 38,
   "id": "0cc9b149",
   "metadata": {},
   "outputs": [
    {
     "name": "stderr",
     "output_type": "stream",
     "text": [
      "Epoch:   0%|          | 0/2 [03:51<?, ?it/s]\n",
      "\n",
      "KeyboardInterrupt\n",
      "\n"
     ]
    }
   ],
   "source": [
    "device = torch.device('cuda' if torch.cuda.is_available() else 'cpu')\n",
    "\n",
    "epochs = 2\n",
    "\n",
    "# training template\n",
    "for _ in trange(epochs, desc = 'Epoch'):\n",
    "    \n",
    "    # ========== Training ==========\n",
    "    \n",
    "    # Set model to training mode\n",
    "    model.train()\n",
    "    \n",
    "    # Tracking variables\n",
    "    tr_loss = 0\n",
    "    nb_tr_examples, nb_tr_steps = 0, 0\n",
    "\n",
    "    for step, batch in enumerate(train_dataloader):\n",
    "        batch = tuple(t.to(device) for t in batch)\n",
    "        b_input_ids, b_input_mask, b_labels = batch\n",
    "        optimizer.zero_grad()\n",
    "        # Forward pass\n",
    "        train_output = model(b_input_ids, \n",
    "                             token_type_ids = None, \n",
    "                             attention_mask = b_input_mask, \n",
    "                             labels = b_labels)\n",
    "        # Backward pass\n",
    "        train_output.loss.backward()\n",
    "        optimizer.step()\n",
    "        # Update tracking variables\n",
    "        tr_loss += train_output.loss.item()\n",
    "        nb_tr_examples += b_input_ids.size(0)\n",
    "        nb_tr_steps += 1\n",
    "\n",
    "    # ========== Validation ==========\n",
    "\n",
    "    # Set model to evaluation mode\n",
    "    model.eval()\n",
    "\n",
    "    # Tracking variables \n",
    "    val_accuracy = []\n",
    "    val_recall = []\n",
    "\n",
    "    for batch in validation_dataloader:\n",
    "        batch = tuple(t.to(device) for t in batch)\n",
    "        b_input_ids, b_input_mask, b_labels = batch\n",
    "        with torch.no_grad():\n",
    "          # Forward pass\n",
    "          eval_output = model(b_input_ids, \n",
    "                              token_type_ids = None, \n",
    "                              attention_mask = b_input_mask)\n",
    "        logits = eval_output.logits.detach().cpu().numpy()\n",
    "        label_ids = b_labels.to('cpu').numpy()\n",
    "        # Calculate validation metrics\n",
    "        b_accuracy, b_recall= b_metrics(logits, label_ids)\n",
    "        val_accuracy.append(b_accuracy)\n",
    "        \n",
    "        # Update recall only when (tp + fn) != 0\n",
    "        if b_recall != 'nan': \n",
    "            val_recall.append(b_recall)\n",
    "\n",
    "    print('\\n\\t - Train loss: {:.4f}'.format(tr_loss / nb_tr_steps))\n",
    "    print('\\t - Validation Accuracy: {:.4f}'.format(sum(val_accuracy)/len(val_accuracy)))\n",
    "    print('\\t - Validation Recall: {:.4f}'.format(sum(val_recall)/len(val_recall)) if len(val_recall)>0 else '\\t - Validation Recall: NaN')\n",
    "\n"
   ]
  },
  {
   "cell_type": "code",
   "execution_count": null,
   "id": "ae892339",
   "metadata": {},
   "outputs": [],
   "source": [
    "# --> should retrain the model on train + val data"
   ]
  },
  {
   "cell_type": "markdown",
   "id": "fa645eb0",
   "metadata": {},
   "source": [
    "Testing results"
   ]
  },
  {
   "cell_type": "code",
   "execution_count": null,
   "id": "da715437",
   "metadata": {},
   "outputs": [],
   "source": [
    "# load test data\n",
    "\n",
    "test_dataloader = DataLoader(\n",
    "            test_set,\n",
    "            sampler = SequentialSampler(test_set),\n",
    "            batch_size = batch_size\n",
    "        )\n"
   ]
  },
  {
   "cell_type": "code",
   "execution_count": null,
   "id": "3c13c5dc",
   "metadata": {},
   "outputs": [],
   "source": []
  },
  {
   "cell_type": "code",
   "execution_count": null,
   "id": "9872bcac",
   "metadata": {},
   "outputs": [],
   "source": []
  }
 ],
 "metadata": {
  "kernelspec": {
   "display_name": "Python 3 (ipykernel)",
   "language": "python",
   "name": "python3"
  },
  "language_info": {
   "codemirror_mode": {
    "name": "ipython",
    "version": 3
   },
   "file_extension": ".py",
   "mimetype": "text/x-python",
   "name": "python",
   "nbconvert_exporter": "python",
   "pygments_lexer": "ipython3",
   "version": "3.9.13"
  }
 },
 "nbformat": 4,
 "nbformat_minor": 5
}
